{
  "nbformat": 4,
  "nbformat_minor": 0,
  "metadata": {
    "colab": {
      "name": "Untitled3.ipynb",
      "provenance": [],
      "collapsed_sections": []
    },
    "kernelspec": {
      "name": "python3",
      "display_name": "Python 3"
    }
  },
  "cells": [
    {
      "cell_type": "code",
      "metadata": {
        "id": "fH8yY5HfW94L"
      },
      "source": [
        "# Author: Khai Fahmi\n",
        "# Description: Exploration on registered-vehicles-by-colour-at-30-june-2020.csv obtained from\n",
        "#   data.gov.au as a part of the project for Smart City Hack 2021"
      ],
      "execution_count": null,
      "outputs": []
    },
    {
      "cell_type": "code",
      "metadata": {
        "id": "UHqLHyr6uH2b"
      },
      "source": [
        "import numpy as np\n",
        "import pandas as pd\n",
        "import matplotlib.pyplot as plt\n",
        "\n",
        "%matplotlib inline"
      ],
      "execution_count": 29,
      "outputs": []
    },
    {
      "cell_type": "code",
      "metadata": {
        "id": "fdCPXIZGvH-k"
      },
      "source": [
        "colours_code = {\n",
        "    'WHITE': '#ffffff',\n",
        "    'BLACK': '#000000',\n",
        "    'SILVER': 'C0C0C0',\n",
        "    'GREEN': '#00ff00',\n",
        "    'GREY': '#808080',\n",
        "    'ORANGE': '#ffa500',\n",
        "    'RED': '#ff0000',\n",
        "    'BLUE': '#0000ff',\n",
        "    'YELLOW': '#ffff00',\n",
        "    'BROWN': '#964b00',\n",
        "    'BEIGE': '#f5f5dc',\n",
        "    'CREAM': '#fffdd0',\n",
        "    'TAN': '#d2b48c',\n",
        "    'GOLD': '#ffd700',\n",
        "    'MAROON': '#800000',\n",
        "    'PINK': '#ffc0cb',\n",
        "    'PURPLE': '#800080',\n",
        "    'FAWN': '#e5aa70',\n",
        "    'BRONZE': '#cd7f32',\n",
        "    'TURQUOISE': '#30d5c8',\n",
        "    'ARTWORK': None,\n",
        "    'KHAKI': '#f0e68c',\n",
        "    'MAUVE': '#e0b0ff',\n",
        "}"
      ],
      "execution_count": 36,
      "outputs": []
    },
    {
      "cell_type": "code",
      "metadata": {
        "colab": {
          "base_uri": "https://localhost:8080/",
          "height": 204
        },
        "id": "rFV6gsh9ub71",
        "outputId": "63c8a090-9ce2-4e04-ab97-c5d33606871c"
      },
      "source": [
        "import os\n",
        "\n",
        "df = pd.read_csv('registered-vehicles-by-colour-at-30-june-2020.csv', skiprows=1)\n",
        "df.head()"
      ],
      "execution_count": 42,
      "outputs": [
        {
          "output_type": "execute_result",
          "data": {
            "text/html": [
              "<div>\n",
              "<style scoped>\n",
              "    .dataframe tbody tr th:only-of-type {\n",
              "        vertical-align: middle;\n",
              "    }\n",
              "\n",
              "    .dataframe tbody tr th {\n",
              "        vertical-align: top;\n",
              "    }\n",
              "\n",
              "    .dataframe thead th {\n",
              "        text-align: right;\n",
              "    }\n",
              "</style>\n",
              "<table border=\"1\" class=\"dataframe\">\n",
              "  <thead>\n",
              "    <tr style=\"text-align: right;\">\n",
              "      <th></th>\n",
              "      <th>MAKE_DESC</th>\n",
              "      <th>BODY_TYPE_DESC</th>\n",
              "      <th>YEAR_OF_MANUFACTURE</th>\n",
              "      <th>COLOUR_DESC</th>\n",
              "      <th>TOTAL</th>\n",
              "    </tr>\n",
              "  </thead>\n",
              "  <tbody>\n",
              "    <tr>\n",
              "      <th>0</th>\n",
              "      <td>A J STOCK</td>\n",
              "      <td>DOG TRAILER</td>\n",
              "      <td>2007</td>\n",
              "      <td>WHITE</td>\n",
              "      <td>2</td>\n",
              "    </tr>\n",
              "    <tr>\n",
              "      <th>1</th>\n",
              "      <td>A J STOCK</td>\n",
              "      <td>DOG TRAILER</td>\n",
              "      <td>2009</td>\n",
              "      <td>WHITE</td>\n",
              "      <td>3</td>\n",
              "    </tr>\n",
              "    <tr>\n",
              "      <th>2</th>\n",
              "      <td>A J STOCK</td>\n",
              "      <td>DOG TRAILER</td>\n",
              "      <td>2010</td>\n",
              "      <td>WHITE</td>\n",
              "      <td>1</td>\n",
              "    </tr>\n",
              "    <tr>\n",
              "      <th>3</th>\n",
              "      <td>A J STOCK</td>\n",
              "      <td>DOG TRAILER</td>\n",
              "      <td>2011</td>\n",
              "      <td>WHITE</td>\n",
              "      <td>3</td>\n",
              "    </tr>\n",
              "    <tr>\n",
              "      <th>4</th>\n",
              "      <td>A J STOCK</td>\n",
              "      <td>DOG TRAILER</td>\n",
              "      <td>2013</td>\n",
              "      <td>WHITE</td>\n",
              "      <td>1</td>\n",
              "    </tr>\n",
              "  </tbody>\n",
              "</table>\n",
              "</div>"
            ],
            "text/plain": [
              "   MAKE_DESC BODY_TYPE_DESC  YEAR_OF_MANUFACTURE COLOUR_DESC TOTAL\n",
              "0  A J STOCK    DOG TRAILER                 2007       WHITE     2\n",
              "1  A J STOCK    DOG TRAILER                 2009       WHITE     3\n",
              "2  A J STOCK    DOG TRAILER                 2010       WHITE     1\n",
              "3  A J STOCK    DOG TRAILER                 2011       WHITE     3\n",
              "4  A J STOCK    DOG TRAILER                 2013       WHITE     1"
            ]
          },
          "metadata": {
            "tags": []
          },
          "execution_count": 42
        }
      ]
    },
    {
      "cell_type": "code",
      "metadata": {
        "colab": {
          "base_uri": "https://localhost:8080/"
        },
        "id": "IcLKL9hUySYO",
        "outputId": "2ebc1e62-0475-4c44-8c9a-be5120d00c14"
      },
      "source": [
        "# cleanup\n",
        "\n",
        "df['TOTAL'] = df['TOTAL'].str.replace(',', '');\n",
        "df = df.astype({'TOTAL': 'int64'})\n",
        "\n",
        "# assumption that year of manufacture does not affect the design of the body type significantly\n",
        "\n",
        "df['HEX'] = df['COLOUR_DESC'].map(lambda x: colours_code[x])\n",
        "df = df.drop('YEAR_OF_MANUFACTURE', axis=1)\n",
        "df = df.drop('COLOUR_DESC', axis=1)\n",
        "df.dtypes"
      ],
      "execution_count": 43,
      "outputs": [
        {
          "output_type": "execute_result",
          "data": {
            "text/plain": [
              "MAKE_DESC         object\n",
              "BODY_TYPE_DESC    object\n",
              "TOTAL              int64\n",
              "HEX               object\n",
              "dtype: object"
            ]
          },
          "metadata": {
            "tags": []
          },
          "execution_count": 43
        }
      ]
    },
    {
      "cell_type": "code",
      "metadata": {
        "colab": {
          "base_uri": "https://localhost:8080/",
          "height": 450
        },
        "id": "w57isatPwvJY",
        "outputId": "3b5f059b-c6a9-403d-c9cb-281df616d7b4"
      },
      "source": [
        "groups = df.groupby(['MAKE_DESC', 'BODY_TYPE_DESC'])\n",
        "agg = groups.sum('TOTAL')\n",
        "agg"
      ],
      "execution_count": 44,
      "outputs": [
        {
          "output_type": "execute_result",
          "data": {
            "text/html": [
              "<div>\n",
              "<style scoped>\n",
              "    .dataframe tbody tr th:only-of-type {\n",
              "        vertical-align: middle;\n",
              "    }\n",
              "\n",
              "    .dataframe tbody tr th {\n",
              "        vertical-align: top;\n",
              "    }\n",
              "\n",
              "    .dataframe thead th {\n",
              "        text-align: right;\n",
              "    }\n",
              "</style>\n",
              "<table border=\"1\" class=\"dataframe\">\n",
              "  <thead>\n",
              "    <tr style=\"text-align: right;\">\n",
              "      <th></th>\n",
              "      <th></th>\n",
              "      <th>TOTAL</th>\n",
              "    </tr>\n",
              "    <tr>\n",
              "      <th>MAKE_DESC</th>\n",
              "      <th>BODY_TYPE_DESC</th>\n",
              "      <th></th>\n",
              "    </tr>\n",
              "  </thead>\n",
              "  <tbody>\n",
              "    <tr>\n",
              "      <th rowspan=\"3\" valign=\"top\">A J STOCK</th>\n",
              "      <th>DOG TRAILER</th>\n",
              "      <td>20</td>\n",
              "    </tr>\n",
              "    <tr>\n",
              "      <th>PIG TRAILER</th>\n",
              "      <td>13</td>\n",
              "    </tr>\n",
              "    <tr>\n",
              "      <th>TRAILER</th>\n",
              "      <td>7</td>\n",
              "    </tr>\n",
              "    <tr>\n",
              "      <th rowspan=\"2\" valign=\"top\">A P ENGINEERING</th>\n",
              "      <th>ANIMAL TRANSPORTER TRAILER</th>\n",
              "      <td>2</td>\n",
              "    </tr>\n",
              "    <tr>\n",
              "      <th>TRAILER</th>\n",
              "      <td>7</td>\n",
              "    </tr>\n",
              "    <tr>\n",
              "      <th>...</th>\n",
              "      <th>...</th>\n",
              "      <td>...</td>\n",
              "    </tr>\n",
              "    <tr>\n",
              "      <th>ZHEJIANG QIANJIANG</th>\n",
              "      <th>TRAILER</th>\n",
              "      <td>6</td>\n",
              "    </tr>\n",
              "    <tr>\n",
              "      <th>ZMONKEY WELDING</th>\n",
              "      <th>TRAILER</th>\n",
              "      <td>8</td>\n",
              "    </tr>\n",
              "    <tr>\n",
              "      <th rowspan=\"2\" valign=\"top\">ZONGSHEN</th>\n",
              "      <th>SOLO</th>\n",
              "      <td>4</td>\n",
              "    </tr>\n",
              "    <tr>\n",
              "      <th>TRAILER</th>\n",
              "      <td>1</td>\n",
              "    </tr>\n",
              "    <tr>\n",
              "      <th>ZOOMLION</th>\n",
              "      <th>MOBILE CRANE VEHICLE</th>\n",
              "      <td>4</td>\n",
              "    </tr>\n",
              "  </tbody>\n",
              "</table>\n",
              "<p>4119 rows × 1 columns</p>\n",
              "</div>"
            ],
            "text/plain": [
              "                                               TOTAL\n",
              "MAKE_DESC          BODY_TYPE_DESC                   \n",
              "A J STOCK          DOG TRAILER                    20\n",
              "                   PIG TRAILER                    13\n",
              "                   TRAILER                         7\n",
              "A P ENGINEERING    ANIMAL TRANSPORTER TRAILER      2\n",
              "                   TRAILER                         7\n",
              "...                                              ...\n",
              "ZHEJIANG QIANJIANG TRAILER                         6\n",
              "ZMONKEY WELDING    TRAILER                         8\n",
              "ZONGSHEN           SOLO                            4\n",
              "                   TRAILER                         1\n",
              "ZOOMLION           MOBILE CRANE VEHICLE            4\n",
              "\n",
              "[4119 rows x 1 columns]"
            ]
          },
          "metadata": {
            "tags": []
          },
          "execution_count": 44
        }
      ]
    },
    {
      "cell_type": "code",
      "metadata": {
        "id": "jB2IJQByxvaz"
      },
      "source": [
        ""
      ],
      "execution_count": null,
      "outputs": []
    }
  ]
}