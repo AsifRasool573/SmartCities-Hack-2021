{
  "nbformat": 4,
  "nbformat_minor": 0,
  "metadata": {
    "colab": {
      "name": "Estimating Carbon Emission by Vehicles using DataAnalysis and Machine learning.ipynb",
      "provenance": [],
      "collapsed_sections": []
    },
    "kernelspec": {
      "name": "python3",
      "display_name": "Python 3"
    }
  },
  "cells": [
    {
      "cell_type": "code",
      "metadata": {
        "id": "UL7Buwl2Afeq"
      },
      "source": [
        "import pandas as pd \r\n",
        "import matplotlib.pyplot as plt\r\n",
        "import seaborn as sns"
      ],
      "execution_count": null,
      "outputs": []
    },
    {
      "cell_type": "code",
      "metadata": {
        "colab": {
          "base_uri": "https://localhost:8080/",
          "height": 289
        },
        "id": "fodO4ICSChmP",
        "outputId": "65d1da54-e98f-4685-bdfc-b2363487613c"
      },
      "source": [
        "df = pd.read_csv('/content/yarra-traffic-counts.csv')\r\n",
        "df.head()"
      ],
      "execution_count": null,
      "outputs": [
        {
          "output_type": "execute_result",
          "data": {
            "text/html": [
              "<div>\n",
              "<style scoped>\n",
              "    .dataframe tbody tr th:only-of-type {\n",
              "        vertical-align: middle;\n",
              "    }\n",
              "\n",
              "    .dataframe tbody tr th {\n",
              "        vertical-align: top;\n",
              "    }\n",
              "\n",
              "    .dataframe thead th {\n",
              "        text-align: right;\n",
              "    }\n",
              "</style>\n",
              "<table border=\"1\" class=\"dataframe\">\n",
              "  <thead>\n",
              "    <tr style=\"text-align: right;\">\n",
              "      <th></th>\n",
              "      <th>date_captured</th>\n",
              "      <th>road_name</th>\n",
              "      <th>section_start</th>\n",
              "      <th>section_end</th>\n",
              "      <th>suburb</th>\n",
              "      <th>direction_1</th>\n",
              "      <th>vehicles_1</th>\n",
              "      <th>direction_2</th>\n",
              "      <th>vehicles_2</th>\n",
              "      <th>volume_per_day</th>\n",
              "      <th>85th_percentile_speed</th>\n",
              "    </tr>\n",
              "  </thead>\n",
              "  <tbody>\n",
              "    <tr>\n",
              "      <th>0</th>\n",
              "      <td>2015-Jan</td>\n",
              "      <td>Butler Street</td>\n",
              "      <td>Jonas Street</td>\n",
              "      <td>Shelley Street</td>\n",
              "      <td>Richmond</td>\n",
              "      <td>East/North</td>\n",
              "      <td>192</td>\n",
              "      <td>West/South</td>\n",
              "      <td>261</td>\n",
              "      <td>453</td>\n",
              "      <td>28.4</td>\n",
              "    </tr>\n",
              "    <tr>\n",
              "      <th>1</th>\n",
              "      <td>2015-Jan</td>\n",
              "      <td>Rae Street</td>\n",
              "      <td>Liverpool Street</td>\n",
              "      <td>Scotchmer Street</td>\n",
              "      <td>Fitzroy North</td>\n",
              "      <td>East/North</td>\n",
              "      <td>1115</td>\n",
              "      <td>West/South</td>\n",
              "      <td>784</td>\n",
              "      <td>1899</td>\n",
              "      <td>40.7</td>\n",
              "    </tr>\n",
              "    <tr>\n",
              "      <th>2</th>\n",
              "      <td>2015-Jan</td>\n",
              "      <td>Rae Street</td>\n",
              "      <td>Reid Street</td>\n",
              "      <td>Scotchmer Street</td>\n",
              "      <td>Fitzroy North</td>\n",
              "      <td>East/North</td>\n",
              "      <td>955</td>\n",
              "      <td>West/South</td>\n",
              "      <td>1531</td>\n",
              "      <td>2486</td>\n",
              "      <td>40.7</td>\n",
              "    </tr>\n",
              "    <tr>\n",
              "      <th>3</th>\n",
              "      <td>2015-Jan</td>\n",
              "      <td>Shelley Street</td>\n",
              "      <td>Butler Street</td>\n",
              "      <td>Victoria Street</td>\n",
              "      <td>Richmond</td>\n",
              "      <td>East/North</td>\n",
              "      <td>1659</td>\n",
              "      <td>West/South</td>\n",
              "      <td>1638</td>\n",
              "      <td>3297</td>\n",
              "      <td>35.3</td>\n",
              "    </tr>\n",
              "    <tr>\n",
              "      <th>4</th>\n",
              "      <td>2010-Jan</td>\n",
              "      <td>Hood Street</td>\n",
              "      <td>Hoddle Street</td>\n",
              "      <td>Islington Street</td>\n",
              "      <td>Collingwood</td>\n",
              "      <td>East/North</td>\n",
              "      <td>438</td>\n",
              "      <td>West/South</td>\n",
              "      <td>12</td>\n",
              "      <td>450</td>\n",
              "      <td>32.0</td>\n",
              "    </tr>\n",
              "  </tbody>\n",
              "</table>\n",
              "</div>"
            ],
            "text/plain": [
              "  date_captured       road_name  ... volume_per_day 85th_percentile_speed\n",
              "0      2015-Jan   Butler Street  ...            453                  28.4\n",
              "1      2015-Jan      Rae Street  ...           1899                  40.7\n",
              "2      2015-Jan      Rae Street  ...           2486                  40.7\n",
              "3      2015-Jan  Shelley Street  ...           3297                  35.3\n",
              "4      2010-Jan     Hood Street  ...            450                  32.0\n",
              "\n",
              "[5 rows x 11 columns]"
            ]
          },
          "metadata": {
            "tags": []
          },
          "execution_count": 2
        }
      ]
    },
    {
      "cell_type": "code",
      "metadata": {
        "colab": {
          "base_uri": "https://localhost:8080/"
        },
        "id": "QxtSsKs3-TzD",
        "outputId": "9776944c-f3c0-4cf6-feb8-970ca3523286"
      },
      "source": [
        "df.info()"
      ],
      "execution_count": null,
      "outputs": [
        {
          "output_type": "stream",
          "text": [
            "<class 'pandas.core.frame.DataFrame'>\n",
            "RangeIndex: 1521 entries, 0 to 1520\n",
            "Data columns (total 11 columns):\n",
            " #   Column                 Non-Null Count  Dtype  \n",
            "---  ------                 --------------  -----  \n",
            " 0   date_captured          1521 non-null   object \n",
            " 1   road_name              1521 non-null   object \n",
            " 2   section_start          1521 non-null   object \n",
            " 3   section_end            1515 non-null   object \n",
            " 4   suburb                 1521 non-null   object \n",
            " 5   direction_1            1521 non-null   object \n",
            " 6   vehicles_1             1521 non-null   int64  \n",
            " 7   direction_2            1521 non-null   object \n",
            " 8   vehicles_2             1521 non-null   int64  \n",
            " 9   volume_per_day         1521 non-null   int64  \n",
            " 10  85th_percentile_speed  1521 non-null   float64\n",
            "dtypes: float64(1), int64(3), object(7)\n",
            "memory usage: 130.8+ KB\n"
          ],
          "name": "stdout"
        }
      ]
    },
    {
      "cell_type": "code",
      "metadata": {
        "colab": {
          "base_uri": "https://localhost:8080/",
          "height": 297
        },
        "id": "aHRtzL1C-YOS",
        "outputId": "8f3d4113-ccfd-4a11-ccd6-76c0fc58828e"
      },
      "source": [
        "df.describe()"
      ],
      "execution_count": null,
      "outputs": [
        {
          "output_type": "execute_result",
          "data": {
            "text/html": [
              "<div>\n",
              "<style scoped>\n",
              "    .dataframe tbody tr th:only-of-type {\n",
              "        vertical-align: middle;\n",
              "    }\n",
              "\n",
              "    .dataframe tbody tr th {\n",
              "        vertical-align: top;\n",
              "    }\n",
              "\n",
              "    .dataframe thead th {\n",
              "        text-align: right;\n",
              "    }\n",
              "</style>\n",
              "<table border=\"1\" class=\"dataframe\">\n",
              "  <thead>\n",
              "    <tr style=\"text-align: right;\">\n",
              "      <th></th>\n",
              "      <th>vehicles_1</th>\n",
              "      <th>vehicles_2</th>\n",
              "      <th>volume_per_day</th>\n",
              "      <th>85th_percentile_speed</th>\n",
              "    </tr>\n",
              "  </thead>\n",
              "  <tbody>\n",
              "    <tr>\n",
              "      <th>count</th>\n",
              "      <td>1521.000000</td>\n",
              "      <td>1521.000000</td>\n",
              "      <td>1521.000000</td>\n",
              "      <td>1521.000000</td>\n",
              "    </tr>\n",
              "    <tr>\n",
              "      <th>mean</th>\n",
              "      <td>1000.863248</td>\n",
              "      <td>1003.417488</td>\n",
              "      <td>2004.280736</td>\n",
              "      <td>37.780237</td>\n",
              "    </tr>\n",
              "    <tr>\n",
              "      <th>std</th>\n",
              "      <td>1400.111989</td>\n",
              "      <td>1446.280627</td>\n",
              "      <td>2718.209947</td>\n",
              "      <td>6.893218</td>\n",
              "    </tr>\n",
              "    <tr>\n",
              "      <th>min</th>\n",
              "      <td>0.000000</td>\n",
              "      <td>0.000000</td>\n",
              "      <td>6.000000</td>\n",
              "      <td>14.000000</td>\n",
              "    </tr>\n",
              "    <tr>\n",
              "      <th>25%</th>\n",
              "      <td>214.000000</td>\n",
              "      <td>187.000000</td>\n",
              "      <td>480.000000</td>\n",
              "      <td>34.200000</td>\n",
              "    </tr>\n",
              "    <tr>\n",
              "      <th>50%</th>\n",
              "      <td>495.000000</td>\n",
              "      <td>483.000000</td>\n",
              "      <td>975.000000</td>\n",
              "      <td>38.200000</td>\n",
              "    </tr>\n",
              "    <tr>\n",
              "      <th>75%</th>\n",
              "      <td>1080.000000</td>\n",
              "      <td>1072.000000</td>\n",
              "      <td>2030.000000</td>\n",
              "      <td>41.900000</td>\n",
              "    </tr>\n",
              "    <tr>\n",
              "      <th>max</th>\n",
              "      <td>12068.000000</td>\n",
              "      <td>12497.000000</td>\n",
              "      <td>23457.000000</td>\n",
              "      <td>79.500000</td>\n",
              "    </tr>\n",
              "  </tbody>\n",
              "</table>\n",
              "</div>"
            ],
            "text/plain": [
              "         vehicles_1    vehicles_2  volume_per_day  85th_percentile_speed\n",
              "count   1521.000000   1521.000000     1521.000000            1521.000000\n",
              "mean    1000.863248   1003.417488     2004.280736              37.780237\n",
              "std     1400.111989   1446.280627     2718.209947               6.893218\n",
              "min        0.000000      0.000000        6.000000              14.000000\n",
              "25%      214.000000    187.000000      480.000000              34.200000\n",
              "50%      495.000000    483.000000      975.000000              38.200000\n",
              "75%     1080.000000   1072.000000     2030.000000              41.900000\n",
              "max    12068.000000  12497.000000    23457.000000              79.500000"
            ]
          },
          "metadata": {
            "tags": []
          },
          "execution_count": 4
        }
      ]
    },
    {
      "cell_type": "code",
      "metadata": {
        "colab": {
          "base_uri": "https://localhost:8080/",
          "height": 284
        },
        "id": "xjlgCEEZ2I6M",
        "outputId": "f616c496-3a96-490f-8664-64159b089ddd"
      },
      "source": [
        "print('Road_Name:\\n')\r\n",
        "# df['road_name'].value_counts()[:10].plot(kind='barh')\r\n",
        "df['road_name'].value_counts()[:10].to_frame().style.bar()"
      ],
      "execution_count": null,
      "outputs": [
        {
          "output_type": "stream",
          "text": [
            "Road_Name:\n",
            "\n"
          ],
          "name": "stdout"
        },
        {
          "output_type": "execute_result",
          "data": {
            "text/html": [
              "<style  type=\"text/css\" >\n",
              "#T_3ccac4a8_7fce_11eb_bfcf_0242ac1c0002row0_col0{\n",
              "            width:  10em;\n",
              "             height:  80%;\n",
              "            background:  linear-gradient(90deg,#d65f5f 100.0%, transparent 100.0%);\n",
              "        }#T_3ccac4a8_7fce_11eb_bfcf_0242ac1c0002row1_col0{\n",
              "            width:  10em;\n",
              "             height:  80%;\n",
              "            background:  linear-gradient(90deg,#d65f5f 84.2%, transparent 84.2%);\n",
              "        }#T_3ccac4a8_7fce_11eb_bfcf_0242ac1c0002row2_col0{\n",
              "            width:  10em;\n",
              "             height:  80%;\n",
              "            background:  linear-gradient(90deg,#d65f5f 63.2%, transparent 63.2%);\n",
              "        }#T_3ccac4a8_7fce_11eb_bfcf_0242ac1c0002row3_col0{\n",
              "            width:  10em;\n",
              "             height:  80%;\n",
              "            background:  linear-gradient(90deg,#d65f5f 15.8%, transparent 15.8%);\n",
              "        }#T_3ccac4a8_7fce_11eb_bfcf_0242ac1c0002row4_col0,#T_3ccac4a8_7fce_11eb_bfcf_0242ac1c0002row5_col0,#T_3ccac4a8_7fce_11eb_bfcf_0242ac1c0002row6_col0{\n",
              "            width:  10em;\n",
              "             height:  80%;\n",
              "            background:  linear-gradient(90deg,#d65f5f 10.5%, transparent 10.5%);\n",
              "        }#T_3ccac4a8_7fce_11eb_bfcf_0242ac1c0002row7_col0{\n",
              "            width:  10em;\n",
              "             height:  80%;\n",
              "            background:  linear-gradient(90deg,#d65f5f 5.3%, transparent 5.3%);\n",
              "        }#T_3ccac4a8_7fce_11eb_bfcf_0242ac1c0002row8_col0,#T_3ccac4a8_7fce_11eb_bfcf_0242ac1c0002row9_col0{\n",
              "            width:  10em;\n",
              "             height:  80%;\n",
              "        }</style><table id=\"T_3ccac4a8_7fce_11eb_bfcf_0242ac1c0002\" ><thead>    <tr>        <th class=\"blank level0\" ></th>        <th class=\"col_heading level0 col0\" >road_name</th>    </tr></thead><tbody>\n",
              "                <tr>\n",
              "                        <th id=\"T_3ccac4a8_7fce_11eb_bfcf_0242ac1c0002level0_row0\" class=\"row_heading level0 row0\" >Wellington Street</th>\n",
              "                        <td id=\"T_3ccac4a8_7fce_11eb_bfcf_0242ac1c0002row0_col0\" class=\"data row0 col0\" >33</td>\n",
              "            </tr>\n",
              "            <tr>\n",
              "                        <th id=\"T_3ccac4a8_7fce_11eb_bfcf_0242ac1c0002level0_row1\" class=\"row_heading level0 row1\" >Park Street</th>\n",
              "                        <td id=\"T_3ccac4a8_7fce_11eb_bfcf_0242ac1c0002row1_col0\" class=\"data row1 col0\" >30</td>\n",
              "            </tr>\n",
              "            <tr>\n",
              "                        <th id=\"T_3ccac4a8_7fce_11eb_bfcf_0242ac1c0002level0_row2\" class=\"row_heading level0 row2\" >Rae Street</th>\n",
              "                        <td id=\"T_3ccac4a8_7fce_11eb_bfcf_0242ac1c0002row2_col0\" class=\"data row2 col0\" >26</td>\n",
              "            </tr>\n",
              "            <tr>\n",
              "                        <th id=\"T_3ccac4a8_7fce_11eb_bfcf_0242ac1c0002level0_row3\" class=\"row_heading level0 row3\" >Rose Street</th>\n",
              "                        <td id=\"T_3ccac4a8_7fce_11eb_bfcf_0242ac1c0002row3_col0\" class=\"data row3 col0\" >17</td>\n",
              "            </tr>\n",
              "            <tr>\n",
              "                        <th id=\"T_3ccac4a8_7fce_11eb_bfcf_0242ac1c0002level0_row4\" class=\"row_heading level0 row4\" >George Street</th>\n",
              "                        <td id=\"T_3ccac4a8_7fce_11eb_bfcf_0242ac1c0002row4_col0\" class=\"data row4 col0\" >16</td>\n",
              "            </tr>\n",
              "            <tr>\n",
              "                        <th id=\"T_3ccac4a8_7fce_11eb_bfcf_0242ac1c0002level0_row5\" class=\"row_heading level0 row5\" >Gold Street</th>\n",
              "                        <td id=\"T_3ccac4a8_7fce_11eb_bfcf_0242ac1c0002row5_col0\" class=\"data row5 col0\" >16</td>\n",
              "            </tr>\n",
              "            <tr>\n",
              "                        <th id=\"T_3ccac4a8_7fce_11eb_bfcf_0242ac1c0002level0_row6\" class=\"row_heading level0 row6\" >Napier Street</th>\n",
              "                        <td id=\"T_3ccac4a8_7fce_11eb_bfcf_0242ac1c0002row6_col0\" class=\"data row6 col0\" >16</td>\n",
              "            </tr>\n",
              "            <tr>\n",
              "                        <th id=\"T_3ccac4a8_7fce_11eb_bfcf_0242ac1c0002level0_row7\" class=\"row_heading level0 row7\" >Scotchmer Street</th>\n",
              "                        <td id=\"T_3ccac4a8_7fce_11eb_bfcf_0242ac1c0002row7_col0\" class=\"data row7 col0\" >15</td>\n",
              "            </tr>\n",
              "            <tr>\n",
              "                        <th id=\"T_3ccac4a8_7fce_11eb_bfcf_0242ac1c0002level0_row8\" class=\"row_heading level0 row8\" >Richardson Street</th>\n",
              "                        <td id=\"T_3ccac4a8_7fce_11eb_bfcf_0242ac1c0002row8_col0\" class=\"data row8 col0\" >14</td>\n",
              "            </tr>\n",
              "            <tr>\n",
              "                        <th id=\"T_3ccac4a8_7fce_11eb_bfcf_0242ac1c0002level0_row9\" class=\"row_heading level0 row9\" >Lennox Street</th>\n",
              "                        <td id=\"T_3ccac4a8_7fce_11eb_bfcf_0242ac1c0002row9_col0\" class=\"data row9 col0\" >14</td>\n",
              "            </tr>\n",
              "    </tbody></table>"
            ],
            "text/plain": [
              "<pandas.io.formats.style.Styler at 0x7fe94051ff10>"
            ]
          },
          "metadata": {
            "tags": []
          },
          "execution_count": 5
        }
      ]
    },
    {
      "cell_type": "code",
      "metadata": {
        "colab": {
          "base_uri": "https://localhost:8080/",
          "height": 284
        },
        "id": "9F7YzkVN0-dL",
        "outputId": "918af20f-9dcb-46ca-9f2e-9880aa73af18"
      },
      "source": [
        "print('Section Start:\\n')\r\n",
        "df.section_start.value_counts()[:10].to_frame().style.bar()"
      ],
      "execution_count": null,
      "outputs": [
        {
          "output_type": "stream",
          "text": [
            "Section Start:\n",
            "\n"
          ],
          "name": "stdout"
        },
        {
          "output_type": "execute_result",
          "data": {
            "text/html": [
              "<style  type=\"text/css\" >\n",
              "#T_3cd0585a_7fce_11eb_bfcf_0242ac1c0002row0_col0{\n",
              "            width:  10em;\n",
              "             height:  80%;\n",
              "            background:  linear-gradient(90deg,#d65f5f 100.0%, transparent 100.0%);\n",
              "        }#T_3cd0585a_7fce_11eb_bfcf_0242ac1c0002row1_col0{\n",
              "            width:  10em;\n",
              "             height:  80%;\n",
              "            background:  linear-gradient(90deg,#d65f5f 55.3%, transparent 55.3%);\n",
              "        }#T_3cd0585a_7fce_11eb_bfcf_0242ac1c0002row2_col0{\n",
              "            width:  10em;\n",
              "             height:  80%;\n",
              "            background:  linear-gradient(90deg,#d65f5f 44.7%, transparent 44.7%);\n",
              "        }#T_3cd0585a_7fce_11eb_bfcf_0242ac1c0002row3_col0,#T_3cd0585a_7fce_11eb_bfcf_0242ac1c0002row4_col0{\n",
              "            width:  10em;\n",
              "             height:  80%;\n",
              "            background:  linear-gradient(90deg,#d65f5f 23.7%, transparent 23.7%);\n",
              "        }#T_3cd0585a_7fce_11eb_bfcf_0242ac1c0002row5_col0{\n",
              "            width:  10em;\n",
              "             height:  80%;\n",
              "            background:  linear-gradient(90deg,#d65f5f 21.1%, transparent 21.1%);\n",
              "        }#T_3cd0585a_7fce_11eb_bfcf_0242ac1c0002row6_col0{\n",
              "            width:  10em;\n",
              "             height:  80%;\n",
              "            background:  linear-gradient(90deg,#d65f5f 10.5%, transparent 10.5%);\n",
              "        }#T_3cd0585a_7fce_11eb_bfcf_0242ac1c0002row7_col0{\n",
              "            width:  10em;\n",
              "             height:  80%;\n",
              "            background:  linear-gradient(90deg,#d65f5f 7.9%, transparent 7.9%);\n",
              "        }#T_3cd0585a_7fce_11eb_bfcf_0242ac1c0002row8_col0,#T_3cd0585a_7fce_11eb_bfcf_0242ac1c0002row9_col0{\n",
              "            width:  10em;\n",
              "             height:  80%;\n",
              "        }</style><table id=\"T_3cd0585a_7fce_11eb_bfcf_0242ac1c0002\" ><thead>    <tr>        <th class=\"blank level0\" ></th>        <th class=\"col_heading level0 col0\" >section_start</th>    </tr></thead><tbody>\n",
              "                <tr>\n",
              "                        <th id=\"T_3cd0585a_7fce_11eb_bfcf_0242ac1c0002level0_row0\" class=\"row_heading level0 row0\" >Gipps Street</th>\n",
              "                        <td id=\"T_3cd0585a_7fce_11eb_bfcf_0242ac1c0002row0_col0\" class=\"data row0 col0\" >62</td>\n",
              "            </tr>\n",
              "            <tr>\n",
              "                        <th id=\"T_3cd0585a_7fce_11eb_bfcf_0242ac1c0002level0_row1\" class=\"row_heading level0 row1\" >Nicholson Street</th>\n",
              "                        <td id=\"T_3cd0585a_7fce_11eb_bfcf_0242ac1c0002row1_col0\" class=\"data row1 col0\" >45</td>\n",
              "            </tr>\n",
              "            <tr>\n",
              "                        <th id=\"T_3cd0585a_7fce_11eb_bfcf_0242ac1c0002level0_row2\" class=\"row_heading level0 row2\" >Burnley Street</th>\n",
              "                        <td id=\"T_3cd0585a_7fce_11eb_bfcf_0242ac1c0002row2_col0\" class=\"data row2 col0\" >41</td>\n",
              "            </tr>\n",
              "            <tr>\n",
              "                        <th id=\"T_3cd0585a_7fce_11eb_bfcf_0242ac1c0002level0_row3\" class=\"row_heading level0 row3\" >Bridge Road</th>\n",
              "                        <td id=\"T_3cd0585a_7fce_11eb_bfcf_0242ac1c0002row3_col0\" class=\"data row3 col0\" >33</td>\n",
              "            </tr>\n",
              "            <tr>\n",
              "                        <th id=\"T_3cd0585a_7fce_11eb_bfcf_0242ac1c0002level0_row4\" class=\"row_heading level0 row4\" >Church Street</th>\n",
              "                        <td id=\"T_3cd0585a_7fce_11eb_bfcf_0242ac1c0002row4_col0\" class=\"data row4 col0\" >33</td>\n",
              "            </tr>\n",
              "            <tr>\n",
              "                        <th id=\"T_3cd0585a_7fce_11eb_bfcf_0242ac1c0002level0_row5\" class=\"row_heading level0 row5\" >Gold Street</th>\n",
              "                        <td id=\"T_3cd0585a_7fce_11eb_bfcf_0242ac1c0002row5_col0\" class=\"data row5 col0\" >32</td>\n",
              "            </tr>\n",
              "            <tr>\n",
              "                        <th id=\"T_3cd0585a_7fce_11eb_bfcf_0242ac1c0002level0_row6\" class=\"row_heading level0 row6\" >Johnston Street</th>\n",
              "                        <td id=\"T_3cd0585a_7fce_11eb_bfcf_0242ac1c0002row6_col0\" class=\"data row6 col0\" >28</td>\n",
              "            </tr>\n",
              "            <tr>\n",
              "                        <th id=\"T_3cd0585a_7fce_11eb_bfcf_0242ac1c0002level0_row7\" class=\"row_heading level0 row7\" >Alexandra Parade</th>\n",
              "                        <td id=\"T_3cd0585a_7fce_11eb_bfcf_0242ac1c0002row7_col0\" class=\"data row7 col0\" >27</td>\n",
              "            </tr>\n",
              "            <tr>\n",
              "                        <th id=\"T_3cd0585a_7fce_11eb_bfcf_0242ac1c0002level0_row8\" class=\"row_heading level0 row8\" >Hoddle Street</th>\n",
              "                        <td id=\"T_3cd0585a_7fce_11eb_bfcf_0242ac1c0002row8_col0\" class=\"data row8 col0\" >24</td>\n",
              "            </tr>\n",
              "            <tr>\n",
              "                        <th id=\"T_3cd0585a_7fce_11eb_bfcf_0242ac1c0002level0_row9\" class=\"row_heading level0 row9\" >Langridge Street</th>\n",
              "                        <td id=\"T_3cd0585a_7fce_11eb_bfcf_0242ac1c0002row9_col0\" class=\"data row9 col0\" >24</td>\n",
              "            </tr>\n",
              "    </tbody></table>"
            ],
            "text/plain": [
              "<pandas.io.formats.style.Styler at 0x7fe940232610>"
            ]
          },
          "metadata": {
            "tags": []
          },
          "execution_count": 6
        }
      ]
    },
    {
      "cell_type": "code",
      "metadata": {
        "colab": {
          "base_uri": "https://localhost:8080/",
          "height": 284
        },
        "id": "W-_Y413V31-b",
        "outputId": "c5e10032-b140-445b-c62c-299ff3e2ed42"
      },
      "source": [
        "print('Section End:\\n')\r\n",
        "df.section_end.value_counts()[:10].to_frame().style.bar()"
      ],
      "execution_count": null,
      "outputs": [
        {
          "output_type": "stream",
          "text": [
            "Section End:\n",
            "\n"
          ],
          "name": "stdout"
        },
        {
          "output_type": "execute_result",
          "data": {
            "text/html": [
              "<style  type=\"text/css\" >\n",
              "#T_3cd472a0_7fce_11eb_bfcf_0242ac1c0002row0_col0{\n",
              "            width:  10em;\n",
              "             height:  80%;\n",
              "            background:  linear-gradient(90deg,#d65f5f 100.0%, transparent 100.0%);\n",
              "        }#T_3cd472a0_7fce_11eb_bfcf_0242ac1c0002row1_col0{\n",
              "            width:  10em;\n",
              "             height:  80%;\n",
              "            background:  linear-gradient(90deg,#d65f5f 35.7%, transparent 35.7%);\n",
              "        }#T_3cd472a0_7fce_11eb_bfcf_0242ac1c0002row2_col0,#T_3cd472a0_7fce_11eb_bfcf_0242ac1c0002row3_col0{\n",
              "            width:  10em;\n",
              "             height:  80%;\n",
              "            background:  linear-gradient(90deg,#d65f5f 32.1%, transparent 32.1%);\n",
              "        }#T_3cd472a0_7fce_11eb_bfcf_0242ac1c0002row4_col0{\n",
              "            width:  10em;\n",
              "             height:  80%;\n",
              "            background:  linear-gradient(90deg,#d65f5f 21.4%, transparent 21.4%);\n",
              "        }#T_3cd472a0_7fce_11eb_bfcf_0242ac1c0002row5_col0{\n",
              "            width:  10em;\n",
              "             height:  80%;\n",
              "            background:  linear-gradient(90deg,#d65f5f 14.3%, transparent 14.3%);\n",
              "        }#T_3cd472a0_7fce_11eb_bfcf_0242ac1c0002row6_col0{\n",
              "            width:  10em;\n",
              "             height:  80%;\n",
              "            background:  linear-gradient(90deg,#d65f5f 10.7%, transparent 10.7%);\n",
              "        }#T_3cd472a0_7fce_11eb_bfcf_0242ac1c0002row7_col0,#T_3cd472a0_7fce_11eb_bfcf_0242ac1c0002row8_col0{\n",
              "            width:  10em;\n",
              "             height:  80%;\n",
              "            background:  linear-gradient(90deg,#d65f5f 3.6%, transparent 3.6%);\n",
              "        }#T_3cd472a0_7fce_11eb_bfcf_0242ac1c0002row9_col0{\n",
              "            width:  10em;\n",
              "             height:  80%;\n",
              "        }</style><table id=\"T_3cd472a0_7fce_11eb_bfcf_0242ac1c0002\" ><thead>    <tr>        <th class=\"blank level0\" ></th>        <th class=\"col_heading level0 col0\" >section_end</th>    </tr></thead><tbody>\n",
              "                <tr>\n",
              "                        <th id=\"T_3cd472a0_7fce_11eb_bfcf_0242ac1c0002level0_row0\" class=\"row_heading level0 row0\" >Wellington Street</th>\n",
              "                        <td id=\"T_3cd472a0_7fce_11eb_bfcf_0242ac1c0002row0_col0\" class=\"data row0 col0\" >51</td>\n",
              "            </tr>\n",
              "            <tr>\n",
              "                        <th id=\"T_3cd472a0_7fce_11eb_bfcf_0242ac1c0002level0_row1\" class=\"row_heading level0 row1\" >Swan Street</th>\n",
              "                        <td id=\"T_3cd472a0_7fce_11eb_bfcf_0242ac1c0002row1_col0\" class=\"data row1 col0\" >33</td>\n",
              "            </tr>\n",
              "            <tr>\n",
              "                        <th id=\"T_3cd472a0_7fce_11eb_bfcf_0242ac1c0002level0_row2\" class=\"row_heading level0 row2\" >Rathdowne Street</th>\n",
              "                        <td id=\"T_3cd472a0_7fce_11eb_bfcf_0242ac1c0002row2_col0\" class=\"data row2 col0\" >32</td>\n",
              "            </tr>\n",
              "            <tr>\n",
              "                        <th id=\"T_3cd472a0_7fce_11eb_bfcf_0242ac1c0002level0_row3\" class=\"row_heading level0 row3\" >Park Street</th>\n",
              "                        <td id=\"T_3cd472a0_7fce_11eb_bfcf_0242ac1c0002row3_col0\" class=\"data row3 col0\" >32</td>\n",
              "            </tr>\n",
              "            <tr>\n",
              "                        <th id=\"T_3cd472a0_7fce_11eb_bfcf_0242ac1c0002level0_row4\" class=\"row_heading level0 row4\" >Rae Street</th>\n",
              "                        <td id=\"T_3cd472a0_7fce_11eb_bfcf_0242ac1c0002row4_col0\" class=\"data row4 col0\" >29</td>\n",
              "            </tr>\n",
              "            <tr>\n",
              "                        <th id=\"T_3cd472a0_7fce_11eb_bfcf_0242ac1c0002level0_row5\" class=\"row_heading level0 row5\" >Victoria Street</th>\n",
              "                        <td id=\"T_3cd472a0_7fce_11eb_bfcf_0242ac1c0002row5_col0\" class=\"data row5 col0\" >27</td>\n",
              "            </tr>\n",
              "            <tr>\n",
              "                        <th id=\"T_3cd472a0_7fce_11eb_bfcf_0242ac1c0002level0_row6\" class=\"row_heading level0 row6\" >Smith Street</th>\n",
              "                        <td id=\"T_3cd472a0_7fce_11eb_bfcf_0242ac1c0002row6_col0\" class=\"data row6 col0\" >26</td>\n",
              "            </tr>\n",
              "            <tr>\n",
              "                        <th id=\"T_3cd472a0_7fce_11eb_bfcf_0242ac1c0002level0_row7\" class=\"row_heading level0 row7\" >Scotchmer Street</th>\n",
              "                        <td id=\"T_3cd472a0_7fce_11eb_bfcf_0242ac1c0002row7_col0\" class=\"data row7 col0\" >24</td>\n",
              "            </tr>\n",
              "            <tr>\n",
              "                        <th id=\"T_3cd472a0_7fce_11eb_bfcf_0242ac1c0002level0_row8\" class=\"row_heading level0 row8\" >Roseneath Street</th>\n",
              "                        <td id=\"T_3cd472a0_7fce_11eb_bfcf_0242ac1c0002row8_col0\" class=\"data row8 col0\" >24</td>\n",
              "            </tr>\n",
              "            <tr>\n",
              "                        <th id=\"T_3cd472a0_7fce_11eb_bfcf_0242ac1c0002level0_row9\" class=\"row_heading level0 row9\" >Hoddle Street</th>\n",
              "                        <td id=\"T_3cd472a0_7fce_11eb_bfcf_0242ac1c0002row9_col0\" class=\"data row9 col0\" >23</td>\n",
              "            </tr>\n",
              "    </tbody></table>"
            ],
            "text/plain": [
              "<pandas.io.formats.style.Styler at 0x7fe9401dc810>"
            ]
          },
          "metadata": {
            "tags": []
          },
          "execution_count": 7
        }
      ]
    },
    {
      "cell_type": "code",
      "metadata": {
        "colab": {
          "base_uri": "https://localhost:8080/",
          "height": 179
        },
        "id": "aTHePzAI_m3o",
        "outputId": "cb06081a-b6c9-4e16-d9d0-7fcd4c32f551"
      },
      "source": [
        "print('Suburb:\\n')\r\n",
        "df.suburb.value_counts()[:5].to_frame().style.bar()"
      ],
      "execution_count": null,
      "outputs": [
        {
          "output_type": "stream",
          "text": [
            "Suburb:\n",
            "\n"
          ],
          "name": "stdout"
        },
        {
          "output_type": "execute_result",
          "data": {
            "text/html": [
              "<style  type=\"text/css\" >\n",
              "#T_3cd84c0e_7fce_11eb_bfcf_0242ac1c0002row0_col0{\n",
              "            width:  10em;\n",
              "             height:  80%;\n",
              "            background:  linear-gradient(90deg,#d65f5f 100.0%, transparent 100.0%);\n",
              "        }#T_3cd84c0e_7fce_11eb_bfcf_0242ac1c0002row1_col0{\n",
              "            width:  10em;\n",
              "             height:  80%;\n",
              "            background:  linear-gradient(90deg,#d65f5f 24.6%, transparent 24.6%);\n",
              "        }#T_3cd84c0e_7fce_11eb_bfcf_0242ac1c0002row2_col0{\n",
              "            width:  10em;\n",
              "             height:  80%;\n",
              "            background:  linear-gradient(90deg,#d65f5f 15.0%, transparent 15.0%);\n",
              "        }#T_3cd84c0e_7fce_11eb_bfcf_0242ac1c0002row3_col0{\n",
              "            width:  10em;\n",
              "             height:  80%;\n",
              "            background:  linear-gradient(90deg,#d65f5f 8.2%, transparent 8.2%);\n",
              "        }#T_3cd84c0e_7fce_11eb_bfcf_0242ac1c0002row4_col0{\n",
              "            width:  10em;\n",
              "             height:  80%;\n",
              "        }</style><table id=\"T_3cd84c0e_7fce_11eb_bfcf_0242ac1c0002\" ><thead>    <tr>        <th class=\"blank level0\" ></th>        <th class=\"col_heading level0 col0\" >suburb</th>    </tr></thead><tbody>\n",
              "                <tr>\n",
              "                        <th id=\"T_3cd84c0e_7fce_11eb_bfcf_0242ac1c0002level0_row0\" class=\"row_heading level0 row0\" >Richmond</th>\n",
              "                        <td id=\"T_3cd84c0e_7fce_11eb_bfcf_0242ac1c0002row0_col0\" class=\"data row0 col0\" >469</td>\n",
              "            </tr>\n",
              "            <tr>\n",
              "                        <th id=\"T_3cd84c0e_7fce_11eb_bfcf_0242ac1c0002level0_row1\" class=\"row_heading level0 row1\" >Collingwood</th>\n",
              "                        <td id=\"T_3cd84c0e_7fce_11eb_bfcf_0242ac1c0002row1_col0\" class=\"data row1 col0\" >212</td>\n",
              "            </tr>\n",
              "            <tr>\n",
              "                        <th id=\"T_3cd84c0e_7fce_11eb_bfcf_0242ac1c0002level0_row2\" class=\"row_heading level0 row2\" >Fitzroy North</th>\n",
              "                        <td id=\"T_3cd84c0e_7fce_11eb_bfcf_0242ac1c0002row2_col0\" class=\"data row2 col0\" >179</td>\n",
              "            </tr>\n",
              "            <tr>\n",
              "                        <th id=\"T_3cd84c0e_7fce_11eb_bfcf_0242ac1c0002level0_row3\" class=\"row_heading level0 row3\" >Carlton North</th>\n",
              "                        <td id=\"T_3cd84c0e_7fce_11eb_bfcf_0242ac1c0002row3_col0\" class=\"data row3 col0\" >156</td>\n",
              "            </tr>\n",
              "            <tr>\n",
              "                        <th id=\"T_3cd84c0e_7fce_11eb_bfcf_0242ac1c0002level0_row4\" class=\"row_heading level0 row4\" >Fitzroy</th>\n",
              "                        <td id=\"T_3cd84c0e_7fce_11eb_bfcf_0242ac1c0002row4_col0\" class=\"data row4 col0\" >128</td>\n",
              "            </tr>\n",
              "    </tbody></table>"
            ],
            "text/plain": [
              "<pandas.io.formats.style.Styler at 0x7fe9401dc110>"
            ]
          },
          "metadata": {
            "tags": []
          },
          "execution_count": 8
        }
      ]
    },
    {
      "cell_type": "code",
      "metadata": {
        "id": "oYpSxPXXSm4x"
      },
      "source": [
        "df_volume_pd_sum = df.groupby([\"road_name\",'section_start','section_end','suburb']).volume_per_day.sum().reset_index()\r\n",
        "df_volume_pd_sum = df_volume_pd_sum.sort_values(by=['volume_per_day'],ascending=False)\r\n",
        "display(df_volume_pd_sum)"
      ],
      "execution_count": null,
      "outputs": []
    },
    {
      "cell_type": "code",
      "metadata": {
        "colab": {
          "base_uri": "https://localhost:8080/",
          "height": 419
        },
        "id": "K7nEa00yfKqv",
        "outputId": "260e70d2-4529-4cff-8eb7-8ff5b721b1a8"
      },
      "source": [
        "df_volume_pd_sum = df.groupby([\"road_name\",'section_start','section_end','suburb']).volume_per_day.sum().reset_index()\r\n",
        "df_volume_pd_sum = df_volume_pd_sum.sort_values(by=['volume_per_day'],ascending=False)\r\n",
        "display(df_volume_pd_sum)"
      ],
      "execution_count": null,
      "outputs": [
        {
          "output_type": "display_data",
          "data": {
            "text/html": [
              "<div>\n",
              "<style scoped>\n",
              "    .dataframe tbody tr th:only-of-type {\n",
              "        vertical-align: middle;\n",
              "    }\n",
              "\n",
              "    .dataframe tbody tr th {\n",
              "        vertical-align: top;\n",
              "    }\n",
              "\n",
              "    .dataframe thead th {\n",
              "        text-align: right;\n",
              "    }\n",
              "</style>\n",
              "<table border=\"1\" class=\"dataframe\">\n",
              "  <thead>\n",
              "    <tr style=\"text-align: right;\">\n",
              "      <th></th>\n",
              "      <th>road_name</th>\n",
              "      <th>section_start</th>\n",
              "      <th>section_end</th>\n",
              "      <th>suburb</th>\n",
              "      <th>volume_per_day</th>\n",
              "    </tr>\n",
              "  </thead>\n",
              "  <tbody>\n",
              "    <tr>\n",
              "      <th>670</th>\n",
              "      <td>Rathdowne Street</td>\n",
              "      <td>Newry Street</td>\n",
              "      <td>Ogrady Street</td>\n",
              "      <td>Carlton North</td>\n",
              "      <td>38030</td>\n",
              "    </tr>\n",
              "    <tr>\n",
              "      <th>585</th>\n",
              "      <td>Nicholson Street</td>\n",
              "      <td>Studley Street</td>\n",
              "      <td>Yarra Street</td>\n",
              "      <td>Abbotsford</td>\n",
              "      <td>37915</td>\n",
              "    </tr>\n",
              "    <tr>\n",
              "      <th>671</th>\n",
              "      <td>Rathdowne Street</td>\n",
              "      <td>Pigdon Street</td>\n",
              "      <td>Richardson Street</td>\n",
              "      <td>Carlton North</td>\n",
              "      <td>35749</td>\n",
              "    </tr>\n",
              "    <tr>\n",
              "      <th>743</th>\n",
              "      <td>Scotchmer Street</td>\n",
              "      <td>Best Street</td>\n",
              "      <td>Birkenhead Street</td>\n",
              "      <td>Fitzroy North</td>\n",
              "      <td>34679</td>\n",
              "    </tr>\n",
              "    <tr>\n",
              "      <th>747</th>\n",
              "      <td>Scotchmer Street</td>\n",
              "      <td>Mark Street</td>\n",
              "      <td>Woodhead Street</td>\n",
              "      <td>Fitzroy North</td>\n",
              "      <td>33402</td>\n",
              "    </tr>\n",
              "    <tr>\n",
              "      <th>...</th>\n",
              "      <td>...</td>\n",
              "      <td>...</td>\n",
              "      <td>...</td>\n",
              "      <td>...</td>\n",
              "      <td>...</td>\n",
              "    </tr>\n",
              "    <tr>\n",
              "      <th>419</th>\n",
              "      <td>Lane number 213</td>\n",
              "      <td>Little Oxford Street</td>\n",
              "      <td>Oxford Street</td>\n",
              "      <td>Collingwood</td>\n",
              "      <td>17</td>\n",
              "    </tr>\n",
              "    <tr>\n",
              "      <th>429</th>\n",
              "      <td>Lane number 87</td>\n",
              "      <td>Grant Street</td>\n",
              "      <td>John Street</td>\n",
              "      <td>Clifton Hill</td>\n",
              "      <td>14</td>\n",
              "    </tr>\n",
              "    <tr>\n",
              "      <th>418</th>\n",
              "      <td>Lane number 2087</td>\n",
              "      <td>Scotchmer Street</td>\n",
              "      <td>Tranmere Street</td>\n",
              "      <td>Fitzroy North</td>\n",
              "      <td>11</td>\n",
              "    </tr>\n",
              "    <tr>\n",
              "      <th>421</th>\n",
              "      <td>Lane number 245.1</td>\n",
              "      <td>Singleton Street</td>\n",
              "      <td>Vere Street</td>\n",
              "      <td>Collingwood</td>\n",
              "      <td>7</td>\n",
              "    </tr>\n",
              "    <tr>\n",
              "      <th>428</th>\n",
              "      <td>Lane number 698</td>\n",
              "      <td>Highett Street</td>\n",
              "      <td>Murphy Street</td>\n",
              "      <td>Richmond</td>\n",
              "      <td>6</td>\n",
              "    </tr>\n",
              "  </tbody>\n",
              "</table>\n",
              "<p>956 rows × 5 columns</p>\n",
              "</div>"
            ],
            "text/plain": [
              "             road_name         section_start  ...         suburb volume_per_day\n",
              "670   Rathdowne Street          Newry Street  ...  Carlton North          38030\n",
              "585   Nicholson Street        Studley Street  ...     Abbotsford          37915\n",
              "671   Rathdowne Street         Pigdon Street  ...  Carlton North          35749\n",
              "743   Scotchmer Street           Best Street  ...  Fitzroy North          34679\n",
              "747   Scotchmer Street           Mark Street  ...  Fitzroy North          33402\n",
              "..                 ...                   ...  ...            ...            ...\n",
              "419    Lane number 213  Little Oxford Street  ...    Collingwood             17\n",
              "429     Lane number 87          Grant Street  ...   Clifton Hill             14\n",
              "418   Lane number 2087      Scotchmer Street  ...  Fitzroy North             11\n",
              "421  Lane number 245.1      Singleton Street  ...    Collingwood              7\n",
              "428    Lane number 698        Highett Street  ...       Richmond              6\n",
              "\n",
              "[956 rows x 5 columns]"
            ]
          },
          "metadata": {
            "tags": []
          }
        }
      ]
    },
    {
      "cell_type": "code",
      "metadata": {
        "colab": {
          "base_uri": "https://localhost:8080/",
          "height": 563
        },
        "id": "U6-67CAsXWwM",
        "outputId": "bdd0548a-cbfe-4272-f720-31caf6eedc6e"
      },
      "source": [
        "plot1 = df_5_records.plot.pie(y='Value', figsize=(5, 5))"
      ],
      "execution_count": null,
      "outputs": [
        {
          "output_type": "error",
          "ename": "KeyError",
          "evalue": "ignored",
          "traceback": [
            "\u001b[0;31m---------------------------------------------------------------------------\u001b[0m",
            "\u001b[0;31mKeyError\u001b[0m                                  Traceback (most recent call last)",
            "\u001b[0;32m/usr/local/lib/python3.7/dist-packages/pandas/core/indexes/base.py\u001b[0m in \u001b[0;36mget_loc\u001b[0;34m(self, key, method, tolerance)\u001b[0m\n\u001b[1;32m   2897\u001b[0m             \u001b[0;32mtry\u001b[0m\u001b[0;34m:\u001b[0m\u001b[0;34m\u001b[0m\u001b[0;34m\u001b[0m\u001b[0m\n\u001b[0;32m-> 2898\u001b[0;31m                 \u001b[0;32mreturn\u001b[0m \u001b[0mself\u001b[0m\u001b[0;34m.\u001b[0m\u001b[0m_engine\u001b[0m\u001b[0;34m.\u001b[0m\u001b[0mget_loc\u001b[0m\u001b[0;34m(\u001b[0m\u001b[0mcasted_key\u001b[0m\u001b[0;34m)\u001b[0m\u001b[0;34m\u001b[0m\u001b[0;34m\u001b[0m\u001b[0m\n\u001b[0m\u001b[1;32m   2899\u001b[0m             \u001b[0;32mexcept\u001b[0m \u001b[0mKeyError\u001b[0m \u001b[0;32mas\u001b[0m \u001b[0merr\u001b[0m\u001b[0;34m:\u001b[0m\u001b[0;34m\u001b[0m\u001b[0;34m\u001b[0m\u001b[0m\n",
            "\u001b[0;32mpandas/_libs/index.pyx\u001b[0m in \u001b[0;36mpandas._libs.index.IndexEngine.get_loc\u001b[0;34m()\u001b[0m\n",
            "\u001b[0;32mpandas/_libs/index.pyx\u001b[0m in \u001b[0;36mpandas._libs.index.IndexEngine.get_loc\u001b[0;34m()\u001b[0m\n",
            "\u001b[0;32mpandas/_libs/hashtable_class_helper.pxi\u001b[0m in \u001b[0;36mpandas._libs.hashtable.PyObjectHashTable.get_item\u001b[0;34m()\u001b[0m\n",
            "\u001b[0;32mpandas/_libs/hashtable_class_helper.pxi\u001b[0m in \u001b[0;36mpandas._libs.hashtable.PyObjectHashTable.get_item\u001b[0;34m()\u001b[0m\n",
            "\u001b[0;31mKeyError\u001b[0m: 'Value'",
            "\nThe above exception was the direct cause of the following exception:\n",
            "\u001b[0;31mKeyError\u001b[0m                                  Traceback (most recent call last)",
            "\u001b[0;32m<ipython-input-23-c4555b484f92>\u001b[0m in \u001b[0;36m<module>\u001b[0;34m()\u001b[0m\n\u001b[0;32m----> 1\u001b[0;31m \u001b[0mplot1\u001b[0m \u001b[0;34m=\u001b[0m \u001b[0mdf_5_records\u001b[0m\u001b[0;34m.\u001b[0m\u001b[0mplot\u001b[0m\u001b[0;34m.\u001b[0m\u001b[0mpie\u001b[0m\u001b[0;34m(\u001b[0m\u001b[0my\u001b[0m\u001b[0;34m=\u001b[0m\u001b[0;34m'Value'\u001b[0m\u001b[0;34m,\u001b[0m \u001b[0mfigsize\u001b[0m\u001b[0;34m=\u001b[0m\u001b[0;34m(\u001b[0m\u001b[0;36m5\u001b[0m\u001b[0;34m,\u001b[0m \u001b[0;36m5\u001b[0m\u001b[0;34m)\u001b[0m\u001b[0;34m)\u001b[0m\u001b[0;34m\u001b[0m\u001b[0;34m\u001b[0m\u001b[0m\n\u001b[0m",
            "\u001b[0;32m/usr/local/lib/python3.7/dist-packages/pandas/plotting/_core.py\u001b[0m in \u001b[0;36mpie\u001b[0;34m(self, **kwargs)\u001b[0m\n\u001b[1;32m   1526\u001b[0m         ):\n\u001b[1;32m   1527\u001b[0m             \u001b[0;32mraise\u001b[0m \u001b[0mValueError\u001b[0m\u001b[0;34m(\u001b[0m\u001b[0;34m\"pie requires either y column or 'subplots=True'\"\u001b[0m\u001b[0;34m)\u001b[0m\u001b[0;34m\u001b[0m\u001b[0;34m\u001b[0m\u001b[0m\n\u001b[0;32m-> 1528\u001b[0;31m         \u001b[0;32mreturn\u001b[0m \u001b[0mself\u001b[0m\u001b[0;34m(\u001b[0m\u001b[0mkind\u001b[0m\u001b[0;34m=\u001b[0m\u001b[0;34m\"pie\"\u001b[0m\u001b[0;34m,\u001b[0m \u001b[0;34m**\u001b[0m\u001b[0mkwargs\u001b[0m\u001b[0;34m)\u001b[0m\u001b[0;34m\u001b[0m\u001b[0;34m\u001b[0m\u001b[0m\n\u001b[0m\u001b[1;32m   1529\u001b[0m \u001b[0;34m\u001b[0m\u001b[0m\n\u001b[1;32m   1530\u001b[0m     \u001b[0;32mdef\u001b[0m \u001b[0mscatter\u001b[0m\u001b[0;34m(\u001b[0m\u001b[0mself\u001b[0m\u001b[0;34m,\u001b[0m \u001b[0mx\u001b[0m\u001b[0;34m,\u001b[0m \u001b[0my\u001b[0m\u001b[0;34m,\u001b[0m \u001b[0ms\u001b[0m\u001b[0;34m=\u001b[0m\u001b[0;32mNone\u001b[0m\u001b[0;34m,\u001b[0m \u001b[0mc\u001b[0m\u001b[0;34m=\u001b[0m\u001b[0;32mNone\u001b[0m\u001b[0;34m,\u001b[0m \u001b[0;34m**\u001b[0m\u001b[0mkwargs\u001b[0m\u001b[0;34m)\u001b[0m\u001b[0;34m:\u001b[0m\u001b[0;34m\u001b[0m\u001b[0;34m\u001b[0m\u001b[0m\n",
            "\u001b[0;32m/usr/local/lib/python3.7/dist-packages/pandas/plotting/_core.py\u001b[0m in \u001b[0;36m__call__\u001b[0;34m(self, *args, **kwargs)\u001b[0m\n\u001b[1;32m    905\u001b[0m                         \u001b[0my\u001b[0m \u001b[0;34m=\u001b[0m \u001b[0mdata\u001b[0m\u001b[0;34m.\u001b[0m\u001b[0mcolumns\u001b[0m\u001b[0;34m[\u001b[0m\u001b[0my\u001b[0m\u001b[0;34m]\u001b[0m\u001b[0;34m\u001b[0m\u001b[0;34m\u001b[0m\u001b[0m\n\u001b[1;32m    906\u001b[0m                     \u001b[0;31m# converted to series actually. copy to not modify\u001b[0m\u001b[0;34m\u001b[0m\u001b[0;34m\u001b[0m\u001b[0;34m\u001b[0m\u001b[0m\n\u001b[0;32m--> 907\u001b[0;31m                     \u001b[0mdata\u001b[0m \u001b[0;34m=\u001b[0m \u001b[0mdata\u001b[0m\u001b[0;34m[\u001b[0m\u001b[0my\u001b[0m\u001b[0;34m]\u001b[0m\u001b[0;34m.\u001b[0m\u001b[0mcopy\u001b[0m\u001b[0;34m(\u001b[0m\u001b[0;34m)\u001b[0m\u001b[0;34m\u001b[0m\u001b[0;34m\u001b[0m\u001b[0m\n\u001b[0m\u001b[1;32m    908\u001b[0m                     \u001b[0mdata\u001b[0m\u001b[0;34m.\u001b[0m\u001b[0mindex\u001b[0m\u001b[0;34m.\u001b[0m\u001b[0mname\u001b[0m \u001b[0;34m=\u001b[0m \u001b[0my\u001b[0m\u001b[0;34m\u001b[0m\u001b[0;34m\u001b[0m\u001b[0m\n\u001b[1;32m    909\u001b[0m         \u001b[0;32melif\u001b[0m \u001b[0misinstance\u001b[0m\u001b[0;34m(\u001b[0m\u001b[0mdata\u001b[0m\u001b[0;34m,\u001b[0m \u001b[0mABCDataFrame\u001b[0m\u001b[0;34m)\u001b[0m\u001b[0;34m:\u001b[0m\u001b[0;34m\u001b[0m\u001b[0;34m\u001b[0m\u001b[0m\n",
            "\u001b[0;32m/usr/local/lib/python3.7/dist-packages/pandas/core/frame.py\u001b[0m in \u001b[0;36m__getitem__\u001b[0;34m(self, key)\u001b[0m\n\u001b[1;32m   2904\u001b[0m             \u001b[0;32mif\u001b[0m \u001b[0mself\u001b[0m\u001b[0;34m.\u001b[0m\u001b[0mcolumns\u001b[0m\u001b[0;34m.\u001b[0m\u001b[0mnlevels\u001b[0m \u001b[0;34m>\u001b[0m \u001b[0;36m1\u001b[0m\u001b[0;34m:\u001b[0m\u001b[0;34m\u001b[0m\u001b[0;34m\u001b[0m\u001b[0m\n\u001b[1;32m   2905\u001b[0m                 \u001b[0;32mreturn\u001b[0m \u001b[0mself\u001b[0m\u001b[0;34m.\u001b[0m\u001b[0m_getitem_multilevel\u001b[0m\u001b[0;34m(\u001b[0m\u001b[0mkey\u001b[0m\u001b[0;34m)\u001b[0m\u001b[0;34m\u001b[0m\u001b[0;34m\u001b[0m\u001b[0m\n\u001b[0;32m-> 2906\u001b[0;31m             \u001b[0mindexer\u001b[0m \u001b[0;34m=\u001b[0m \u001b[0mself\u001b[0m\u001b[0;34m.\u001b[0m\u001b[0mcolumns\u001b[0m\u001b[0;34m.\u001b[0m\u001b[0mget_loc\u001b[0m\u001b[0;34m(\u001b[0m\u001b[0mkey\u001b[0m\u001b[0;34m)\u001b[0m\u001b[0;34m\u001b[0m\u001b[0;34m\u001b[0m\u001b[0m\n\u001b[0m\u001b[1;32m   2907\u001b[0m             \u001b[0;32mif\u001b[0m \u001b[0mis_integer\u001b[0m\u001b[0;34m(\u001b[0m\u001b[0mindexer\u001b[0m\u001b[0;34m)\u001b[0m\u001b[0;34m:\u001b[0m\u001b[0;34m\u001b[0m\u001b[0;34m\u001b[0m\u001b[0m\n\u001b[1;32m   2908\u001b[0m                 \u001b[0mindexer\u001b[0m \u001b[0;34m=\u001b[0m \u001b[0;34m[\u001b[0m\u001b[0mindexer\u001b[0m\u001b[0;34m]\u001b[0m\u001b[0;34m\u001b[0m\u001b[0;34m\u001b[0m\u001b[0m\n",
            "\u001b[0;32m/usr/local/lib/python3.7/dist-packages/pandas/core/indexes/base.py\u001b[0m in \u001b[0;36mget_loc\u001b[0;34m(self, key, method, tolerance)\u001b[0m\n\u001b[1;32m   2898\u001b[0m                 \u001b[0;32mreturn\u001b[0m \u001b[0mself\u001b[0m\u001b[0;34m.\u001b[0m\u001b[0m_engine\u001b[0m\u001b[0;34m.\u001b[0m\u001b[0mget_loc\u001b[0m\u001b[0;34m(\u001b[0m\u001b[0mcasted_key\u001b[0m\u001b[0;34m)\u001b[0m\u001b[0;34m\u001b[0m\u001b[0;34m\u001b[0m\u001b[0m\n\u001b[1;32m   2899\u001b[0m             \u001b[0;32mexcept\u001b[0m \u001b[0mKeyError\u001b[0m \u001b[0;32mas\u001b[0m \u001b[0merr\u001b[0m\u001b[0;34m:\u001b[0m\u001b[0;34m\u001b[0m\u001b[0;34m\u001b[0m\u001b[0m\n\u001b[0;32m-> 2900\u001b[0;31m                 \u001b[0;32mraise\u001b[0m \u001b[0mKeyError\u001b[0m\u001b[0;34m(\u001b[0m\u001b[0mkey\u001b[0m\u001b[0;34m)\u001b[0m \u001b[0;32mfrom\u001b[0m \u001b[0merr\u001b[0m\u001b[0;34m\u001b[0m\u001b[0;34m\u001b[0m\u001b[0m\n\u001b[0m\u001b[1;32m   2901\u001b[0m \u001b[0;34m\u001b[0m\u001b[0m\n\u001b[1;32m   2902\u001b[0m         \u001b[0;32mif\u001b[0m \u001b[0mtolerance\u001b[0m \u001b[0;32mis\u001b[0m \u001b[0;32mnot\u001b[0m \u001b[0;32mNone\u001b[0m\u001b[0;34m:\u001b[0m\u001b[0;34m\u001b[0m\u001b[0;34m\u001b[0m\u001b[0m\n",
            "\u001b[0;31mKeyError\u001b[0m: 'Value'"
          ]
        }
      ]
    },
    {
      "cell_type": "code",
      "metadata": {
        "colab": {
          "base_uri": "https://localhost:8080/",
          "height": 282
        },
        "id": "aV43oGJHSVvZ",
        "outputId": "62e2d46d-b3be-46bb-cc6e-6c1bcd1077ac"
      },
      "source": [
        "df_5_records = df_volume_pd_sum.head()\r\n",
        "df_5_records.plot(kind='barh')"
      ],
      "execution_count": null,
      "outputs": [
        {
          "output_type": "execute_result",
          "data": {
            "text/plain": [
              "<matplotlib.axes._subplots.AxesSubplot at 0x7fe93ca2dbd0>"
            ]
          },
          "metadata": {
            "tags": []
          },
          "execution_count": 22
        },
        {
          "output_type": "display_data",
          "data": {
            "image/png": "[encoded data removed]",
            "text/plain": [
              "<Figure size 432x288 with 1 Axes>"
            ]
          },
          "metadata": {
            "tags": [],
            "needs_background": "light"
          }
        }
      ]
    },
    {
      "cell_type": "code",
      "metadata": {
        "colab": {
          "base_uri": "https://localhost:8080/",
          "height": 173
        },
        "id": "JpewsqRcjXlc",
        "outputId": "ce8487cc-8f17-4f1e-91a7-7e7938f11dd9"
      },
      "source": [
        "correlation = df.corr()\r\n",
        "correlation"
      ],
      "execution_count": null,
      "outputs": [
        {
          "output_type": "execute_result",
          "data": {
            "text/html": [
              "<div>\n",
              "<style scoped>\n",
              "    .dataframe tbody tr th:only-of-type {\n",
              "        vertical-align: middle;\n",
              "    }\n",
              "\n",
              "    .dataframe tbody tr th {\n",
              "        vertical-align: top;\n",
              "    }\n",
              "\n",
              "    .dataframe thead th {\n",
              "        text-align: right;\n",
              "    }\n",
              "</style>\n",
              "<table border=\"1\" class=\"dataframe\">\n",
              "  <thead>\n",
              "    <tr style=\"text-align: right;\">\n",
              "      <th></th>\n",
              "      <th>vehicles_1</th>\n",
              "      <th>vehicles_2</th>\n",
              "      <th>volume_per_day</th>\n",
              "      <th>85th_percentile_speed</th>\n",
              "    </tr>\n",
              "  </thead>\n",
              "  <tbody>\n",
              "    <tr>\n",
              "      <th>vehicles_1</th>\n",
              "      <td>1.000000</td>\n",
              "      <td>0.823876</td>\n",
              "      <td>0.953447</td>\n",
              "      <td>0.352604</td>\n",
              "    </tr>\n",
              "    <tr>\n",
              "      <th>vehicles_2</th>\n",
              "      <td>0.823876</td>\n",
              "      <td>1.000000</td>\n",
              "      <td>0.956438</td>\n",
              "      <td>0.342199</td>\n",
              "    </tr>\n",
              "    <tr>\n",
              "      <th>volume_per_day</th>\n",
              "      <td>0.953447</td>\n",
              "      <td>0.956438</td>\n",
              "      <td>1.000000</td>\n",
              "      <td>0.363696</td>\n",
              "    </tr>\n",
              "    <tr>\n",
              "      <th>85th_percentile_speed</th>\n",
              "      <td>0.352604</td>\n",
              "      <td>0.342199</td>\n",
              "      <td>0.363696</td>\n",
              "      <td>1.000000</td>\n",
              "    </tr>\n",
              "  </tbody>\n",
              "</table>\n",
              "</div>"
            ],
            "text/plain": [
              "                       vehicles_1  ...  85th_percentile_speed\n",
              "vehicles_1               1.000000  ...               0.352604\n",
              "vehicles_2               0.823876  ...               0.342199\n",
              "volume_per_day           0.953447  ...               0.363696\n",
              "85th_percentile_speed    0.352604  ...               1.000000\n",
              "\n",
              "[4 rows x 4 columns]"
            ]
          },
          "metadata": {
            "tags": []
          },
          "execution_count": 148
        }
      ]
    },
    {
      "cell_type": "code",
      "metadata": {
        "colab": {
          "base_uri": "https://localhost:8080/",
          "height": 427
        },
        "id": "rqmIqSk2fmHZ",
        "outputId": "0ef15e7b-88c6-42d6-b716-0c2fc36a8e9b"
      },
      "source": [
        "# Visualization of correlation matrix heatmap \r\n",
        "plt.figure(figsize=(5,5))\r\n",
        "sns.heatmap(correlation, annot = True)\r\n",
        "plt.show()"
      ],
      "execution_count": null,
      "outputs": [
        {
          "output_type": "display_data",
          "data": {
            "image/png": "[encoded data removed]",
            "text/plain": [
              "<Figure size 360x360 with 2 Axes>"
            ]
          },
          "metadata": {
            "tags": [],
            "needs_background": "light"
          }
        }
      ]
    },
    {
      "cell_type": "code",
      "metadata": {
        "id": "we83xgGFinT1"
      },
      "source": [
        ""
      ],
      "execution_count": null,
      "outputs": []
    }
  ]
}